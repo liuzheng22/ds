{
 "cells": [
  {
   "cell_type": "code",
   "execution_count": 1,
   "metadata": {},
   "outputs": [],
   "source": [
    "import pandas as pd\n",
    "import numpy as np\n",
    "from sklearn.ensemble import IsolationForest\n",
    "\n",
    "from google.cloud import bigquery\n",
    "from google.cloud import bigquery_storage_v1beta1\n",
    "\n",
    "\n",
    "import ipywidgets as widgets\n",
    "from IPython.display import display\n",
    "from ipywidgets import GridspecLayout\n",
    "\n",
    "\n",
    "import matplotlib \n",
    "%matplotlib inline\n",
    "\n",
    "import warnings\n",
    "warnings.filterwarnings('ignore')"
   ]
  },
  {
   "cell_type": "code",
   "execution_count": 2,
   "metadata": {},
   "outputs": [],
   "source": [
    "set_input_table = widgets.Text(description='Input Table:', value='content-insights-dev-249001.echostar_slingtv.customer_view_by_uniqueid', disabled=False)\n",
    "set_save_table = widgets.Text(description='Save Table:', value='content-insights-dev-249001.ds.encostar_slingtv_outlier', disabled=False)\n",
    "set_asset_id = widgets.Text(description='Asset ID:', value='asset_canonical_id', disabled=False)\n",
    "set_viewer_id = widgets.Text(description='Viewer ID:', value='uniqueId', disabled=False)\n",
    "set_contamination = widgets.FloatSlider(\n",
    "    value=0.02,\n",
    "    min=0.01,\n",
    "    max=100,\n",
    "    step=0.01,\n",
    "    description='Outlier (%):',\n",
    "    disabled=False,\n",
    "    continuous_update=False,\n",
    "    orientation='horizontal',\n",
    "    readout=True,\n",
    "    readout_format='.2f',\n",
    ")\n",
    "set_date = widgets.DatePicker(\n",
    "    description='Pick a Date',\n",
    "    disabled=False\n",
    ")"
   ]
  },
  {
   "cell_type": "code",
   "execution_count": 3,
   "metadata": {},
   "outputs": [
    {
     "data": {
      "application/vnd.jupyter.widget-view+json": {
       "model_id": "5f2a8f0ce3604885828b69d2473f6695",
       "version_major": 2,
       "version_minor": 0
      },
      "text/plain": [
       "GridspecLayout(children=(Text(value='content-insights-dev-249001.echostar_slingtv.customer_view_by_uniqueid', …"
      ]
     },
     "metadata": {},
     "output_type": "display_data"
    }
   ],
   "source": [
    "grid = GridspecLayout(3, 2)\n",
    "grid[0, 0] = set_input_table\n",
    "grid[0, 1] = set_save_table\n",
    "grid[1, 0] = set_asset_id\n",
    "grid[1, 1] = set_viewer_id\n",
    "grid[2, 0] = set_date\n",
    "grid[2, 1] = set_contamination\n",
    "grid"
   ]
  },
  {
   "cell_type": "code",
   "execution_count": 25,
   "metadata": {},
   "outputs": [
    {
     "name": "stdout",
     "output_type": "stream",
     "text": [
      "asset id: asset_canonical_id \n",
      "viewer id: uniqueId \n",
      "date: 2020-05-14 \n",
      "contamination:0.02% \n",
      "input table: content-insights-dev-249001.echostar_slingtv.customer_view_by_uniqueid \n",
      "output table: content-insights-dev-249001.ds.encostar_slingtv_outlier\n"
     ]
    }
   ],
   "source": [
    "asset_id = set_asset_id.value\n",
    "viewer_id = set_viewer_id.value\n",
    "date = str(set_date.value)\n",
    "contamination = set_contamination.value\n",
    "input_table = set_input_table.value\n",
    "save_table = set_save_table.value\n",
    "\n",
    "print(\"asset id: {0} \\nviewer id: {1} \\ndate: {2} \\ncontamination:{3}% \\ninput table: {4} \\noutput table: {5}\".format(asset_id, viewer_id, date, contamination, input_table, save_table))"
   ]
  },
  {
   "cell_type": "markdown",
   "metadata": {},
   "source": [
    "#### connect BigQuery"
   ]
  },
  {
   "cell_type": "code",
   "execution_count": 26,
   "metadata": {},
   "outputs": [
    {
     "name": "stdout",
     "output_type": "stream",
     "text": [
      "env: GOOGLE_APPLICATION_CREDENTIALS=/Users/adam/Documents/code/PycharmProjects/content-qa-dev-1.json\n"
     ]
    }
   ],
   "source": [
    "%env GOOGLE_APPLICATION_CREDENTIALS=/Users/adam/Documents/code/PycharmProjects/content-qa-dev-1.json"
   ]
  },
  {
   "cell_type": "code",
   "execution_count": 27,
   "metadata": {},
   "outputs": [],
   "source": [
    "client = bigquery.Client()\n",
    "# Perform a query.\n",
    "QUERY = (\n",
    "    'SELECT {0} uniqueId, count(1) total_plays, sum(session_playTimeMs) / 1000 / 60 total_playMins, count(distinct {1} ) unique_assets FROM `{2}` WHERE session_date = \\\"{3}\\\" Group by 1'.format(viewer_id, asset_id, input_table, date)\n",
    ")\n",
    "query_job = client.query(QUERY)  # API request\n",
    "rows = query_job.result()  # Waits for query to finish"
   ]
  },
  {
   "cell_type": "code",
   "execution_count": 28,
   "metadata": {},
   "outputs": [
    {
     "data": {
      "text/html": [
       "<div>\n",
       "<style scoped>\n",
       "    .dataframe tbody tr th:only-of-type {\n",
       "        vertical-align: middle;\n",
       "    }\n",
       "\n",
       "    .dataframe tbody tr th {\n",
       "        vertical-align: top;\n",
       "    }\n",
       "\n",
       "    .dataframe thead th {\n",
       "        text-align: right;\n",
       "    }\n",
       "</style>\n",
       "<table border=\"1\" class=\"dataframe\">\n",
       "  <thead>\n",
       "    <tr style=\"text-align: right;\">\n",
       "      <th></th>\n",
       "      <th>uniqueId</th>\n",
       "      <th>total_plays</th>\n",
       "      <th>total_playMins</th>\n",
       "      <th>unique_assets</th>\n",
       "    </tr>\n",
       "  </thead>\n",
       "  <tbody>\n",
       "    <tr>\n",
       "      <th>0</th>\n",
       "      <td>dd4ce04c-efc7-11e5-8720-128e56ace683</td>\n",
       "      <td>59</td>\n",
       "      <td>1455.423233</td>\n",
       "      <td>57</td>\n",
       "    </tr>\n",
       "    <tr>\n",
       "      <th>1</th>\n",
       "      <td>bb58f8c8-63a3-11e5-b4c3-0a42a46b5c52</td>\n",
       "      <td>36</td>\n",
       "      <td>224.184650</td>\n",
       "      <td>11</td>\n",
       "    </tr>\n",
       "    <tr>\n",
       "      <th>2</th>\n",
       "      <td>ca4b9a82-c509-11e8-a38d-0ae1aa194538</td>\n",
       "      <td>50</td>\n",
       "      <td>1465.426217</td>\n",
       "      <td>46</td>\n",
       "    </tr>\n",
       "    <tr>\n",
       "      <th>3</th>\n",
       "      <td>c8d38494-50e5-11ea-91a7-12546226326b</td>\n",
       "      <td>42</td>\n",
       "      <td>1133.686733</td>\n",
       "      <td>39</td>\n",
       "    </tr>\n",
       "    <tr>\n",
       "      <th>4</th>\n",
       "      <td>9bcac7d2-872c-11ea-8262-0ea96829ae61</td>\n",
       "      <td>38</td>\n",
       "      <td>855.058750</td>\n",
       "      <td>20</td>\n",
       "    </tr>\n",
       "  </tbody>\n",
       "</table>\n",
       "</div>"
      ],
      "text/plain": [
       "                               uniqueId  total_plays  total_playMins  \\\n",
       "0  dd4ce04c-efc7-11e5-8720-128e56ace683           59     1455.423233   \n",
       "1  bb58f8c8-63a3-11e5-b4c3-0a42a46b5c52           36      224.184650   \n",
       "2  ca4b9a82-c509-11e8-a38d-0ae1aa194538           50     1465.426217   \n",
       "3  c8d38494-50e5-11ea-91a7-12546226326b           42     1133.686733   \n",
       "4  9bcac7d2-872c-11ea-8262-0ea96829ae61           38      855.058750   \n",
       "\n",
       "   unique_assets  \n",
       "0             57  \n",
       "1             11  \n",
       "2             46  \n",
       "3             39  \n",
       "4             20  "
      ]
     },
     "execution_count": 28,
     "metadata": {},
     "output_type": "execute_result"
    }
   ],
   "source": [
    "rowsdf = rows.to_dataframe()\n",
    "rowsdf.head()"
   ]
  },
  {
   "cell_type": "markdown",
   "metadata": {},
   "source": [
    "#### detect outliers "
   ]
  },
  {
   "cell_type": "code",
   "execution_count": 29,
   "metadata": {},
   "outputs": [
    {
     "name": "stdout",
     "output_type": "stream",
     "text": [
      " 1    1444911\n",
      "-1      29488\n",
      "Name: anomaly, dtype: int64\n"
     ]
    }
   ],
   "source": [
    "to_model_columns=rowsdf.columns[1:4]\n",
    "to_model_columns\n",
    "\n",
    "clf=IsolationForest(n_estimators=100, max_samples='auto', contamination=float(.02), \\\n",
    "                        max_features=1.0, bootstrap=False, n_jobs=-1, random_state=42, verbose=0)\n",
    "clf.fit(rowsdf[to_model_columns])\n",
    "pred = clf.predict(rowsdf[to_model_columns])\n",
    "rowsdf['anomaly']=pred\n",
    "outliers=rowsdf.loc[rowsdf['anomaly']==-1]\n",
    "outlier_index=list(outliers.index)\n",
    "#print(outlier_index)\n",
    "#Find the number of anomalies and normal points here points classified -1 are anomalous\n",
    "print(rowsdf['anomaly'].value_counts())"
   ]
  },
  {
   "cell_type": "code",
   "execution_count": 30,
   "metadata": {},
   "outputs": [
    {
     "data": {
      "text/html": [
       "<div>\n",
       "<style scoped>\n",
       "    .dataframe tbody tr th:only-of-type {\n",
       "        vertical-align: middle;\n",
       "    }\n",
       "\n",
       "    .dataframe tbody tr th {\n",
       "        vertical-align: top;\n",
       "    }\n",
       "\n",
       "    .dataframe thead th {\n",
       "        text-align: right;\n",
       "    }\n",
       "</style>\n",
       "<table border=\"1\" class=\"dataframe\">\n",
       "  <thead>\n",
       "    <tr style=\"text-align: right;\">\n",
       "      <th></th>\n",
       "      <th>uniqueId</th>\n",
       "      <th>total_plays</th>\n",
       "      <th>total_playMins</th>\n",
       "      <th>unique_assets</th>\n",
       "      <th>anomaly</th>\n",
       "    </tr>\n",
       "  </thead>\n",
       "  <tbody>\n",
       "    <tr>\n",
       "      <th>0</th>\n",
       "      <td>dd4ce04c-efc7-11e5-8720-128e56ace683</td>\n",
       "      <td>59</td>\n",
       "      <td>1455.423233</td>\n",
       "      <td>57</td>\n",
       "      <td>-1</td>\n",
       "    </tr>\n",
       "    <tr>\n",
       "      <th>1</th>\n",
       "      <td>bb58f8c8-63a3-11e5-b4c3-0a42a46b5c52</td>\n",
       "      <td>36</td>\n",
       "      <td>224.184650</td>\n",
       "      <td>11</td>\n",
       "      <td>1</td>\n",
       "    </tr>\n",
       "    <tr>\n",
       "      <th>2</th>\n",
       "      <td>ca4b9a82-c509-11e8-a38d-0ae1aa194538</td>\n",
       "      <td>50</td>\n",
       "      <td>1465.426217</td>\n",
       "      <td>46</td>\n",
       "      <td>-1</td>\n",
       "    </tr>\n",
       "    <tr>\n",
       "      <th>3</th>\n",
       "      <td>c8d38494-50e5-11ea-91a7-12546226326b</td>\n",
       "      <td>42</td>\n",
       "      <td>1133.686733</td>\n",
       "      <td>39</td>\n",
       "      <td>1</td>\n",
       "    </tr>\n",
       "    <tr>\n",
       "      <th>4</th>\n",
       "      <td>9bcac7d2-872c-11ea-8262-0ea96829ae61</td>\n",
       "      <td>38</td>\n",
       "      <td>855.058750</td>\n",
       "      <td>20</td>\n",
       "      <td>1</td>\n",
       "    </tr>\n",
       "  </tbody>\n",
       "</table>\n",
       "</div>"
      ],
      "text/plain": [
       "                               uniqueId  total_plays  total_playMins  \\\n",
       "0  dd4ce04c-efc7-11e5-8720-128e56ace683           59     1455.423233   \n",
       "1  bb58f8c8-63a3-11e5-b4c3-0a42a46b5c52           36      224.184650   \n",
       "2  ca4b9a82-c509-11e8-a38d-0ae1aa194538           50     1465.426217   \n",
       "3  c8d38494-50e5-11ea-91a7-12546226326b           42     1133.686733   \n",
       "4  9bcac7d2-872c-11ea-8262-0ea96829ae61           38      855.058750   \n",
       "\n",
       "   unique_assets  anomaly  \n",
       "0             57       -1  \n",
       "1             11        1  \n",
       "2             46       -1  \n",
       "3             39        1  \n",
       "4             20        1  "
      ]
     },
     "execution_count": 30,
     "metadata": {},
     "output_type": "execute_result"
    }
   ],
   "source": [
    "rowsdf.head()"
   ]
  },
  {
   "cell_type": "code",
   "execution_count": 31,
   "metadata": {},
   "outputs": [
    {
     "data": {
      "text/html": [
       "<div>\n",
       "<style scoped>\n",
       "    .dataframe tbody tr th:only-of-type {\n",
       "        vertical-align: middle;\n",
       "    }\n",
       "\n",
       "    .dataframe tbody tr th {\n",
       "        vertical-align: top;\n",
       "    }\n",
       "\n",
       "    .dataframe thead th {\n",
       "        text-align: right;\n",
       "    }\n",
       "</style>\n",
       "<table border=\"1\" class=\"dataframe\">\n",
       "  <thead>\n",
       "    <tr style=\"text-align: right;\">\n",
       "      <th></th>\n",
       "      <th>uniqueId</th>\n",
       "      <th>total_plays</th>\n",
       "      <th>total_playMins</th>\n",
       "      <th>unique_assets</th>\n",
       "      <th>anomaly</th>\n",
       "      <th>date</th>\n",
       "    </tr>\n",
       "  </thead>\n",
       "  <tbody>\n",
       "    <tr>\n",
       "      <th>0</th>\n",
       "      <td>dd4ce04c-efc7-11e5-8720-128e56ace683</td>\n",
       "      <td>59</td>\n",
       "      <td>1455.423233</td>\n",
       "      <td>57</td>\n",
       "      <td>-1</td>\n",
       "      <td>2020-05-14</td>\n",
       "    </tr>\n",
       "    <tr>\n",
       "      <th>2</th>\n",
       "      <td>ca4b9a82-c509-11e8-a38d-0ae1aa194538</td>\n",
       "      <td>50</td>\n",
       "      <td>1465.426217</td>\n",
       "      <td>46</td>\n",
       "      <td>-1</td>\n",
       "      <td>2020-05-14</td>\n",
       "    </tr>\n",
       "    <tr>\n",
       "      <th>17</th>\n",
       "      <td>a6ff73ae-b6db-11e9-b952-129a161a09ae</td>\n",
       "      <td>230</td>\n",
       "      <td>522.584983</td>\n",
       "      <td>188</td>\n",
       "      <td>-1</td>\n",
       "      <td>2020-05-14</td>\n",
       "    </tr>\n",
       "    <tr>\n",
       "      <th>19</th>\n",
       "      <td>13f3b5ce-22e3-11ea-8c79-0a0ecd9f4ba3</td>\n",
       "      <td>76</td>\n",
       "      <td>560.000767</td>\n",
       "      <td>36</td>\n",
       "      <td>-1</td>\n",
       "      <td>2020-05-14</td>\n",
       "    </tr>\n",
       "    <tr>\n",
       "      <th>32</th>\n",
       "      <td>9aed4cac-1124-11e8-9e09-12fbc3de3046</td>\n",
       "      <td>58</td>\n",
       "      <td>1697.367033</td>\n",
       "      <td>44</td>\n",
       "      <td>-1</td>\n",
       "      <td>2020-05-14</td>\n",
       "    </tr>\n",
       "  </tbody>\n",
       "</table>\n",
       "</div>"
      ],
      "text/plain": [
       "                                uniqueId  total_plays  total_playMins  \\\n",
       "0   dd4ce04c-efc7-11e5-8720-128e56ace683           59     1455.423233   \n",
       "2   ca4b9a82-c509-11e8-a38d-0ae1aa194538           50     1465.426217   \n",
       "17  a6ff73ae-b6db-11e9-b952-129a161a09ae          230      522.584983   \n",
       "19  13f3b5ce-22e3-11ea-8c79-0a0ecd9f4ba3           76      560.000767   \n",
       "32  9aed4cac-1124-11e8-9e09-12fbc3de3046           58     1697.367033   \n",
       "\n",
       "    unique_assets  anomaly        date  \n",
       "0              57       -1  2020-05-14  \n",
       "2              46       -1  2020-05-14  \n",
       "17            188       -1  2020-05-14  \n",
       "19             36       -1  2020-05-14  \n",
       "32             44       -1  2020-05-14  "
      ]
     },
     "execution_count": 31,
     "metadata": {},
     "output_type": "execute_result"
    }
   ],
   "source": [
    "outdf = rowsdf[rowsdf['anomaly'] == -1]\n",
    "outdf['date'] = date\n",
    "outdf.head()"
   ]
  },
  {
   "cell_type": "code",
   "execution_count": 32,
   "metadata": {},
   "outputs": [
    {
     "data": {
      "text/html": [
       "<div>\n",
       "<style scoped>\n",
       "    .dataframe tbody tr th:only-of-type {\n",
       "        vertical-align: middle;\n",
       "    }\n",
       "\n",
       "    .dataframe tbody tr th {\n",
       "        vertical-align: top;\n",
       "    }\n",
       "\n",
       "    .dataframe thead th {\n",
       "        text-align: right;\n",
       "    }\n",
       "</style>\n",
       "<table border=\"1\" class=\"dataframe\">\n",
       "  <thead>\n",
       "    <tr style=\"text-align: right;\">\n",
       "      <th></th>\n",
       "      <th>uniqueId</th>\n",
       "      <th>total_plays</th>\n",
       "      <th>total_playMins</th>\n",
       "      <th>unique_assets</th>\n",
       "      <th>date</th>\n",
       "    </tr>\n",
       "  </thead>\n",
       "  <tbody>\n",
       "    <tr>\n",
       "      <th>0</th>\n",
       "      <td>dd4ce04c-efc7-11e5-8720-128e56ace683</td>\n",
       "      <td>59</td>\n",
       "      <td>1455.423233</td>\n",
       "      <td>57</td>\n",
       "      <td>2020-05-14</td>\n",
       "    </tr>\n",
       "    <tr>\n",
       "      <th>1</th>\n",
       "      <td>ca4b9a82-c509-11e8-a38d-0ae1aa194538</td>\n",
       "      <td>50</td>\n",
       "      <td>1465.426217</td>\n",
       "      <td>46</td>\n",
       "      <td>2020-05-14</td>\n",
       "    </tr>\n",
       "    <tr>\n",
       "      <th>2</th>\n",
       "      <td>a6ff73ae-b6db-11e9-b952-129a161a09ae</td>\n",
       "      <td>230</td>\n",
       "      <td>522.584983</td>\n",
       "      <td>188</td>\n",
       "      <td>2020-05-14</td>\n",
       "    </tr>\n",
       "    <tr>\n",
       "      <th>3</th>\n",
       "      <td>13f3b5ce-22e3-11ea-8c79-0a0ecd9f4ba3</td>\n",
       "      <td>76</td>\n",
       "      <td>560.000767</td>\n",
       "      <td>36</td>\n",
       "      <td>2020-05-14</td>\n",
       "    </tr>\n",
       "    <tr>\n",
       "      <th>4</th>\n",
       "      <td>9aed4cac-1124-11e8-9e09-12fbc3de3046</td>\n",
       "      <td>58</td>\n",
       "      <td>1697.367033</td>\n",
       "      <td>44</td>\n",
       "      <td>2020-05-14</td>\n",
       "    </tr>\n",
       "  </tbody>\n",
       "</table>\n",
       "</div>"
      ],
      "text/plain": [
       "                               uniqueId  total_plays  total_playMins  \\\n",
       "0  dd4ce04c-efc7-11e5-8720-128e56ace683           59     1455.423233   \n",
       "1  ca4b9a82-c509-11e8-a38d-0ae1aa194538           50     1465.426217   \n",
       "2  a6ff73ae-b6db-11e9-b952-129a161a09ae          230      522.584983   \n",
       "3  13f3b5ce-22e3-11ea-8c79-0a0ecd9f4ba3           76      560.000767   \n",
       "4  9aed4cac-1124-11e8-9e09-12fbc3de3046           58     1697.367033   \n",
       "\n",
       "   unique_assets        date  \n",
       "0             57  2020-05-14  \n",
       "1             46  2020-05-14  \n",
       "2            188  2020-05-14  \n",
       "3             36  2020-05-14  \n",
       "4             44  2020-05-14  "
      ]
     },
     "execution_count": 32,
     "metadata": {},
     "output_type": "execute_result"
    }
   ],
   "source": [
    "insertdf = outdf[['uniqueId', 'total_plays', 'total_playMins', 'unique_assets', 'date']].reset_index(drop=True)\n",
    "insertdf.head()"
   ]
  },
  {
   "cell_type": "markdown",
   "metadata": {},
   "source": [
    "#### save BigQuery"
   ]
  },
  {
   "cell_type": "code",
   "execution_count": 33,
   "metadata": {},
   "outputs": [
    {
     "data": {
      "text/plain": [
       "<google.cloud.bigquery.job.LoadJob at 0x130f233d0>"
      ]
     },
     "execution_count": 33,
     "metadata": {},
     "output_type": "execute_result"
    }
   ],
   "source": [
    "loadbqtablereference = bigquery.table.TableReference.from_string(save_table)\n",
    "client.load_table_from_dataframe(insertdf, loadbqtablereference)"
   ]
  },
  {
   "cell_type": "code",
   "execution_count": null,
   "metadata": {},
   "outputs": [],
   "source": []
  }
 ],
 "metadata": {
  "kernelspec": {
   "display_name": "Python 3",
   "language": "python",
   "name": "python3"
  },
  "language_info": {
   "codemirror_mode": {
    "name": "ipython",
    "version": 3
   },
   "file_extension": ".py",
   "mimetype": "text/x-python",
   "name": "python",
   "nbconvert_exporter": "python",
   "pygments_lexer": "ipython3",
   "version": "3.8.2"
  },
  "widgets": {
   "application/vnd.jupyter.widget-state+json": {
    "state": {
     "017ae496e13945678a850df951fa92da": {
      "model_module": "@jupyter-widgets/base",
      "model_module_version": "1.2.0",
      "model_name": "LayoutModel",
      "state": {}
     },
     "031f0acaa9904c8d98602fcab046b4ff": {
      "model_module": "@jupyter-widgets/controls",
      "model_module_version": "1.5.0",
      "model_name": "FloatSliderModel",
      "state": {
       "continuous_update": false,
       "description": "Test:",
       "layout": "IPY_MODEL_54946cffef4d450f901afd7f45c3b676",
       "max": 10,
       "readout_format": ".1f",
       "step": 0.01,
       "style": "IPY_MODEL_1074bc59cfa94911b9b607683b132805"
      }
     },
     "0485ad1e795040b99649d627b6849298": {
      "model_module": "@jupyter-widgets/base",
      "model_module_version": "1.2.0",
      "model_name": "LayoutModel",
      "state": {
       "grid_area": "widget004"
      }
     },
     "049e25cf886247659769b6ba4d5b8d3e": {
      "model_module": "@jupyter-widgets/controls",
      "model_module_version": "1.5.0",
      "model_name": "FloatSliderModel",
      "state": {
       "continuous_update": false,
       "description": "Proportion of Outlier (%):",
       "layout": "IPY_MODEL_30b1e8f54404424c8bdc422c2dd9f176",
       "min": 0.01,
       "step": 0.01,
       "style": "IPY_MODEL_2cd3c15b06354312a0852be24598646d",
       "value": 0.02
      }
     },
     "04c84e42488944ec9c6f15fc991a4aab": {
      "model_module": "@jupyter-widgets/base",
      "model_module_version": "1.2.0",
      "model_name": "LayoutModel",
      "state": {}
     },
     "054da888e2364fe6a29ecfe071dd7e23": {
      "model_module": "@jupyter-widgets/controls",
      "model_module_version": "1.5.0",
      "model_name": "DatePickerModel",
      "state": {
       "description": "Pick a Date",
       "disabled": false,
       "layout": "IPY_MODEL_0f23a74dd8e34506a66760ad9b43e6cb",
       "style": "IPY_MODEL_51f583b06e9449bfb52517fb939b4313",
       "value": {
        "date": 2,
        "month": 5,
        "year": 2020
       }
      }
     },
     "06b2fb4d62024608a2d6e53de6cabd7b": {
      "model_module": "@jupyter-widgets/controls",
      "model_module_version": "1.5.0",
      "model_name": "DescriptionStyleModel",
      "state": {
       "description_width": ""
      }
     },
     "06f9e71ce69c4dffa21b1590e7faa792": {
      "model_module": "@jupyter-widgets/controls",
      "model_module_version": "1.5.0",
      "model_name": "FloatSliderModel",
      "state": {
       "continuous_update": false,
       "description": "outlier (%):",
       "layout": "IPY_MODEL_ccb8fc4b67444a4e9b880ff3d5961546",
       "step": 0.01,
       "style": "IPY_MODEL_fa9608030833417a9b4ee090a3113669"
      }
     },
     "07dcee44871441feb82ecddc5fad2a91": {
      "model_module": "@jupyter-widgets/base",
      "model_module_version": "1.2.0",
      "model_name": "LayoutModel",
      "state": {}
     },
     "0c96194b3e6743f58cfda7895a569c67": {
      "model_module": "@jupyter-widgets/controls",
      "model_module_version": "1.5.0",
      "model_name": "DescriptionStyleModel",
      "state": {
       "description_width": ""
      }
     },
     "0cb8300560814db5a64bdab9eb296375": {
      "model_module": "@jupyter-widgets/controls",
      "model_module_version": "1.5.0",
      "model_name": "DescriptionStyleModel",
      "state": {
       "description_width": ""
      }
     },
     "0e3dff76807b47d3adeac5ed48eb0f37": {
      "model_module": "@jupyter-widgets/controls",
      "model_module_version": "1.5.0",
      "model_name": "FloatSliderModel",
      "state": {
       "continuous_update": false,
       "description": "Outlier (%):",
       "layout": "IPY_MODEL_9f90ba3234fb4cda9ba1ce1b588c1d6d",
       "min": 0.01,
       "step": 0.01,
       "style": "IPY_MODEL_b7bdae46f2b14550adc5b08346e56082",
       "value": 0.02
      }
     },
     "0f23a74dd8e34506a66760ad9b43e6cb": {
      "model_module": "@jupyter-widgets/base",
      "model_module_version": "1.2.0",
      "model_name": "LayoutModel",
      "state": {
       "grid_area": "widget003"
      }
     },
     "0fedd221613348498ccae068888849e6": {
      "model_module": "@jupyter-widgets/controls",
      "model_module_version": "1.5.0",
      "model_name": "SliderStyleModel",
      "state": {
       "description_width": ""
      }
     },
     "1074bc59cfa94911b9b607683b132805": {
      "model_module": "@jupyter-widgets/controls",
      "model_module_version": "1.5.0",
      "model_name": "SliderStyleModel",
      "state": {
       "description_width": ""
      }
     },
     "138fddfb8d1f418a9af7614bc19f7a22": {
      "model_module": "@jupyter-widgets/base",
      "model_module_version": "1.2.0",
      "model_name": "LayoutModel",
      "state": {}
     },
     "14784c57e2734a709d5b831f4a333feb": {
      "model_module": "@jupyter-widgets/base",
      "model_module_version": "1.2.0",
      "model_name": "LayoutModel",
      "state": {
       "grid_template_areas": "\"widget001 widget002\"\n\"widget003 widget004\"",
       "grid_template_columns": "repeat(2, 1fr)",
       "grid_template_rows": "repeat(2, 1fr)"
      }
     },
     "14990a53472d4aa6938663945f85c544": {
      "model_module": "@jupyter-widgets/controls",
      "model_module_version": "1.5.0",
      "model_name": "GridBoxModel",
      "state": {
       "children": [
        "IPY_MODEL_74846e7dc72c4977babec676ee15cd44",
        "IPY_MODEL_7f983933cde744c8aaec95d98bb61228",
        "IPY_MODEL_d13fb6762b2045aea1d71950585d6520",
        "IPY_MODEL_cb00a3ad28544b2783704eee94ff0acf"
       ],
       "layout": "IPY_MODEL_b837c08ae1d8413fab4ba4b04f70ba66"
      }
     },
     "1531bb72f1ec46f996d53f80f481bcb4": {
      "model_module": "@jupyter-widgets/controls",
      "model_module_version": "1.5.0",
      "model_name": "DescriptionStyleModel",
      "state": {
       "description_width": ""
      }
     },
     "15748d04521b41a1a3f6923741efdb69": {
      "model_module": "@jupyter-widgets/base",
      "model_module_version": "1.2.0",
      "model_name": "LayoutModel",
      "state": {
       "grid_area": "widget001"
      }
     },
     "16e913087aa9433f8be5548651d852bc": {
      "model_module": "@jupyter-widgets/base",
      "model_module_version": "1.2.0",
      "model_name": "LayoutModel",
      "state": {}
     },
     "1861bba4529644b4bf456fa1a577c3ba": {
      "model_module": "@jupyter-widgets/controls",
      "model_module_version": "1.5.0",
      "model_name": "SliderStyleModel",
      "state": {
       "description_width": ""
      }
     },
     "19269341a2e14cab8927ef8a54fc581b": {
      "model_module": "@jupyter-widgets/controls",
      "model_module_version": "1.5.0",
      "model_name": "FloatSliderModel",
      "state": {
       "continuous_update": false,
       "description": "outlier (%):",
       "layout": "IPY_MODEL_333bca972af443ffa035b1a651519210",
       "max": 99.99,
       "min": 0.01,
       "step": 0.01,
       "style": "IPY_MODEL_54b3ff4be77a4364854385a21160827d",
       "value": 99.98
      }
     },
     "1a140d0f4def4a1198a00be22b9e60f8": {
      "model_module": "@jupyter-widgets/base",
      "model_module_version": "1.2.0",
      "model_name": "LayoutModel",
      "state": {}
     },
     "1c190b4326dd4f069cf4efe5db1ad82b": {
      "model_module": "@jupyter-widgets/controls",
      "model_module_version": "1.5.0",
      "model_name": "FloatSliderModel",
      "state": {
       "continuous_update": false,
       "description": "Test:",
       "layout": "IPY_MODEL_a25ff6416e9349f0af0f0464c9bf51ca",
       "max": 10,
       "step": 0.01,
       "style": "IPY_MODEL_d1360cd0bb34433eba894c544f6fc4b7",
       "value": 9.75
      }
     },
     "1c8bdf3b1fc5485f95b42c85c3df73f2": {
      "model_module": "@jupyter-widgets/controls",
      "model_module_version": "1.5.0",
      "model_name": "FloatSliderModel",
      "state": {
       "continuous_update": false,
       "description": "Test:",
       "layout": "IPY_MODEL_8bab05d4b5dd4a7aa3e1b8106477bc8a",
       "step": 0.01,
       "style": "IPY_MODEL_63ecfcddd5e34c7ea292802ef7763ef5",
       "value": 22.92
      }
     },
     "1c90a91f1cb9434d89250fe015da3c2b": {
      "model_module": "@jupyter-widgets/base",
      "model_module_version": "1.2.0",
      "model_name": "LayoutModel",
      "state": {}
     },
     "1cf25306b11b4cd9a210e0047edcfa7b": {
      "model_module": "@jupyter-widgets/controls",
      "model_module_version": "1.5.0",
      "model_name": "DescriptionStyleModel",
      "state": {
       "description_width": ""
      }
     },
     "206e30650b4344bf96038cdd3e9dc670": {
      "model_module": "@jupyter-widgets/controls",
      "model_module_version": "1.5.0",
      "model_name": "DatePickerModel",
      "state": {
       "description": "Pick a Date",
       "disabled": false,
       "layout": "IPY_MODEL_d69121ba8a214aef897597b6a7a96902",
       "style": "IPY_MODEL_52e96d630d0046aea660768c0ff73744"
      }
     },
     "21873b7ea7d6421c9415eae3ee5d3d31": {
      "model_module": "@jupyter-widgets/controls",
      "model_module_version": "1.5.0",
      "model_name": "TextModel",
      "state": {
       "description": "Viewer ID:",
       "layout": "IPY_MODEL_745c4a01d62f445cae1a10b161358a0e",
       "style": "IPY_MODEL_a221b5f314434a389e1ebe33ac6f7edb",
       "value": "uniqueId"
      }
     },
     "225d834c7ee245b9b3bd9d0f1cb77d91": {
      "model_module": "@jupyter-widgets/controls",
      "model_module_version": "1.5.0",
      "model_name": "SliderStyleModel",
      "state": {
       "description_width": ""
      }
     },
     "23559dd1d8864ff5a60ddd424ed9e6c9": {
      "model_module": "@jupyter-widgets/base",
      "model_module_version": "1.2.0",
      "model_name": "LayoutModel",
      "state": {
       "grid_area": "widget001"
      }
     },
     "2457fd5fae614279bc9b0645f964a3bb": {
      "model_module": "@jupyter-widgets/controls",
      "model_module_version": "1.5.0",
      "model_name": "SliderStyleModel",
      "state": {
       "description_width": ""
      }
     },
     "24bb6c44639245de9112541fca6d8b35": {
      "model_module": "@jupyter-widgets/base",
      "model_module_version": "1.2.0",
      "model_name": "LayoutModel",
      "state": {
       "grid_area": "widget003"
      }
     },
     "253836ea860a46908ba34f7101acf2db": {
      "model_module": "@jupyter-widgets/base",
      "model_module_version": "1.2.0",
      "model_name": "LayoutModel",
      "state": {}
     },
     "27265fe3d3a34262bcc478ef52864d11": {
      "model_module": "@jupyter-widgets/base",
      "model_module_version": "1.2.0",
      "model_name": "LayoutModel",
      "state": {}
     },
     "2734da6ad6db49ac8f550ca38374eb98": {
      "model_module": "@jupyter-widgets/base",
      "model_module_version": "1.2.0",
      "model_name": "LayoutModel",
      "state": {
       "grid_template_areas": "\"widget001 widget002\"\n\". .\"",
       "grid_template_columns": "repeat(2, 1fr)",
       "grid_template_rows": "repeat(2, 1fr)"
      }
     },
     "28e7b2ab09ef475cb1dd74866f241d9c": {
      "model_module": "@jupyter-widgets/base",
      "model_module_version": "1.2.0",
      "model_name": "LayoutModel",
      "state": {}
     },
     "29ba208fb70f414196b6eabd3dbf4fb0": {
      "model_module": "@jupyter-widgets/controls",
      "model_module_version": "1.5.0",
      "model_name": "DescriptionStyleModel",
      "state": {
       "description_width": ""
      }
     },
     "29c5f97382fa4078aa2007e1001b44d9": {
      "model_module": "@jupyter-widgets/controls",
      "model_module_version": "1.5.0",
      "model_name": "TextModel",
      "state": {
       "description": "Input Table:",
       "layout": "IPY_MODEL_253836ea860a46908ba34f7101acf2db",
       "style": "IPY_MODEL_8a2b579b52054d44af2795923decb945",
       "value": "content-insights-dev-249001.echostar_slingtv.customer_view_by_uniqueid"
      }
     },
     "2b2c9f96eefe49aebea3a6c728e20026": {
      "model_module": "@jupyter-widgets/controls",
      "model_module_version": "1.5.0",
      "model_name": "DescriptionStyleModel",
      "state": {
       "description_width": ""
      }
     },
     "2cd3c15b06354312a0852be24598646d": {
      "model_module": "@jupyter-widgets/controls",
      "model_module_version": "1.5.0",
      "model_name": "SliderStyleModel",
      "state": {
       "description_width": ""
      }
     },
     "2d8dbf333360426995b3ba9a1550f3b8": {
      "model_module": "@jupyter-widgets/controls",
      "model_module_version": "1.5.0",
      "model_name": "FloatSliderModel",
      "state": {
       "continuous_update": false,
       "description": "contamination (%):",
       "disabled": true,
       "layout": "IPY_MODEL_831094f21066498488ed09cc897db41b",
       "step": 0.01,
       "style": "IPY_MODEL_404f2fda62314ccda6a8f81e4f31712a",
       "value": 0.02
      }
     },
     "2f01a3b6424c4dd48cd1a6a98202f5ff": {
      "model_module": "@jupyter-widgets/controls",
      "model_module_version": "1.5.0",
      "model_name": "SliderStyleModel",
      "state": {
       "description_width": ""
      }
     },
     "300384790a224edaa7538c40df969edc": {
      "model_module": "@jupyter-widgets/controls",
      "model_module_version": "1.5.0",
      "model_name": "SliderStyleModel",
      "state": {
       "description_width": ""
      }
     },
     "30b1e8f54404424c8bdc422c2dd9f176": {
      "model_module": "@jupyter-widgets/base",
      "model_module_version": "1.2.0",
      "model_name": "LayoutModel",
      "state": {
       "grid_area": "widget004"
      }
     },
     "30c79107495a4a698aab3026cdac34c7": {
      "model_module": "@jupyter-widgets/base",
      "model_module_version": "1.2.0",
      "model_name": "LayoutModel",
      "state": {}
     },
     "30fb21d8e4ce461b8d98727012520105": {
      "model_module": "@jupyter-widgets/controls",
      "model_module_version": "1.5.0",
      "model_name": "DescriptionStyleModel",
      "state": {
       "description_width": ""
      }
     },
     "32a0d0bb15ca4f398e31d913759a723c": {
      "model_module": "@jupyter-widgets/base",
      "model_module_version": "1.2.0",
      "model_name": "LayoutModel",
      "state": {}
     },
     "333bca972af443ffa035b1a651519210": {
      "model_module": "@jupyter-widgets/base",
      "model_module_version": "1.2.0",
      "model_name": "LayoutModel",
      "state": {}
     },
     "3599086e278147b38875391142638881": {
      "model_module": "@jupyter-widgets/controls",
      "model_module_version": "1.5.0",
      "model_name": "DescriptionStyleModel",
      "state": {
       "description_width": ""
      }
     },
     "376fd0056ecd4c9488a153168a301a58": {
      "model_module": "@jupyter-widgets/base",
      "model_module_version": "1.2.0",
      "model_name": "LayoutModel",
      "state": {}
     },
     "38dac74d07d2488c9d970085c9271869": {
      "model_module": "@jupyter-widgets/controls",
      "model_module_version": "1.5.0",
      "model_name": "FloatSliderModel",
      "state": {
       "description": "x",
       "layout": "IPY_MODEL_9f1d942aa3004946bf3d43b77f343bdd",
       "max": 0.06,
       "min": -0.02,
       "step": 0.1,
       "style": "IPY_MODEL_afc23e2bf345434994b53c564f026ba7",
       "value": -0.02
      }
     },
     "3a99aae7dabb46e1a13184e0a36b6836": {
      "model_module": "@jupyter-widgets/base",
      "model_module_version": "1.2.0",
      "model_name": "LayoutModel",
      "state": {}
     },
     "3c6b8b260de8452c9d14b6bf772640ba": {
      "model_module": "@jupyter-widgets/controls",
      "model_module_version": "1.5.0",
      "model_name": "DescriptionStyleModel",
      "state": {
       "description_width": ""
      }
     },
     "404f2fda62314ccda6a8f81e4f31712a": {
      "model_module": "@jupyter-widgets/controls",
      "model_module_version": "1.5.0",
      "model_name": "SliderStyleModel",
      "state": {
       "description_width": ""
      }
     },
     "406f50ee3d2d44d7a71291d91d29a08a": {
      "model_module": "@jupyter-widgets/controls",
      "model_module_version": "1.5.0",
      "model_name": "FloatSliderModel",
      "state": {
       "continuous_update": false,
       "description": "Test:",
       "layout": "IPY_MODEL_a1d7c345a260476b9eade2a1823516a7",
       "step": 0.01,
       "style": "IPY_MODEL_ffd5d7c39449443391916f5e9680e712",
       "value": 1.8
      }
     },
     "44eeb2ae72d14a9e801278658b9b5521": {
      "model_module": "@jupyter-widgets/controls",
      "model_module_version": "1.5.0",
      "model_name": "TextModel",
      "state": {
       "description": "Asset ID:",
       "layout": "IPY_MODEL_a2256db4e6044449873a4e98b5d7f025",
       "style": "IPY_MODEL_c270ff94d97741f0a79a127d2e04dd17",
       "value": "asset_canonical_id"
      }
     },
     "49f3d95760c2454e94838d18913b35ed": {
      "model_module": "@jupyter-widgets/controls",
      "model_module_version": "1.5.0",
      "model_name": "TextModel",
      "state": {
       "description": "Input Table:",
       "layout": "IPY_MODEL_b728af391812443695decac15a6b1f0f",
       "style": "IPY_MODEL_29ba208fb70f414196b6eabd3dbf4fb0",
       "value": "content-insights-dev-249001.echostar_slingtv.customer_view_by_uniqueid"
      }
     },
     "4a4bbdd150e149e1aad724a16e5b5504": {
      "model_module": "@jupyter-widgets/controls",
      "model_module_version": "1.5.0",
      "model_name": "FloatSliderModel",
      "state": {
       "layout": "IPY_MODEL_138fddfb8d1f418a9af7614bc19f7a22",
       "min": 0.01,
       "step": 0.01,
       "style": "IPY_MODEL_1861bba4529644b4bf456fa1a577c3ba",
       "value": 0.01
      }
     },
     "4b4020be37aa42b8be5229209d2a79c4": {
      "model_module": "@jupyter-widgets/controls",
      "model_module_version": "1.5.0",
      "model_name": "FloatSliderModel",
      "state": {
       "continuous_update": false,
       "description": "outlier (%):",
       "layout": "IPY_MODEL_7db24ab837e74e93bea6e894d407e91b",
       "min": 0.01,
       "step": 0.01,
       "style": "IPY_MODEL_5859953424c64a4098720ab8f5760231",
       "value": 0.02
      }
     },
     "4b55ce0ee24e49d4bcbd18044e899661": {
      "model_module": "@jupyter-widgets/base",
      "model_module_version": "1.2.0",
      "model_name": "LayoutModel",
      "state": {
       "grid_template_areas": "\"widget001 widget002\"\n\"widget003 widget004\"",
       "grid_template_columns": "repeat(2, 1fr)",
       "grid_template_rows": "repeat(2, 1fr)"
      }
     },
     "4cf1bd5c6301427c90a718b8e6571ecd": {
      "model_module": "@jupyter-widgets/controls",
      "model_module_version": "1.5.0",
      "model_name": "SliderStyleModel",
      "state": {
       "description_width": ""
      }
     },
     "4e45fb5c39b4455ab17c413f433c3419": {
      "model_module": "@jupyter-widgets/controls",
      "model_module_version": "1.5.0",
      "model_name": "TextModel",
      "state": {
       "disabled": true,
       "layout": "IPY_MODEL_65b2c5fb96e14bf28e36e24eb9a0539e",
       "style": "IPY_MODEL_2b2c9f96eefe49aebea3a6c728e20026",
       "value": "Hello World!"
      }
     },
     "4e6d5b926bc54ec58dee1d1a8227863e": {
      "model_module": "@jupyter-widgets/controls",
      "model_module_version": "1.5.0",
      "model_name": "GridBoxModel",
      "state": {
       "children": [
        "IPY_MODEL_49f3d95760c2454e94838d18913b35ed",
        "IPY_MODEL_b54cac148569455b9355f0afaf953ac6",
        "IPY_MODEL_526acfad2b1a48548eff69c1534d32e7",
        "IPY_MODEL_78c4d590fe7c4f69b8260fec80011e71",
        "IPY_MODEL_7e923527e4344f81afb323e9b644dd9f",
        "IPY_MODEL_0e3dff76807b47d3adeac5ed48eb0f37"
       ],
       "layout": "IPY_MODEL_edd07aa220bb444eab5b04e1e3a14095"
      }
     },
     "4e8d80b6169a4403bf7584ee0cc78b19": {
      "model_module": "@jupyter-widgets/controls",
      "model_module_version": "1.5.0",
      "model_name": "TextModel",
      "state": {
       "layout": "IPY_MODEL_a6b0af016490498b8580fecf4e1c0a75",
       "style": "IPY_MODEL_7d7e5903e52b4d9b9d5ea8b2b952bf28",
       "value": "asset_canonical_id"
      }
     },
     "4ec07b0d896542cfa37f4e6a4651e377": {
      "model_module": "@jupyter-widgets/controls",
      "model_module_version": "1.5.0",
      "model_name": "GridBoxModel",
      "state": {
       "children": [
        "IPY_MODEL_054da888e2364fe6a29ecfe071dd7e23",
        "IPY_MODEL_ff58f88e3b854379ad0273a9912e0ffc"
       ],
       "layout": "IPY_MODEL_2734da6ad6db49ac8f550ca38374eb98"
      }
     },
     "51f583b06e9449bfb52517fb939b4313": {
      "model_module": "@jupyter-widgets/controls",
      "model_module_version": "1.5.0",
      "model_name": "DescriptionStyleModel",
      "state": {
       "description_width": ""
      }
     },
     "526acfad2b1a48548eff69c1534d32e7": {
      "model_module": "@jupyter-widgets/controls",
      "model_module_version": "1.5.0",
      "model_name": "TextModel",
      "state": {
       "description": "Asset ID:",
       "layout": "IPY_MODEL_df81bdd52b6a4abda79c7912b226742f",
       "style": "IPY_MODEL_1cf25306b11b4cd9a210e0047edcfa7b",
       "value": "asset_canonical_id"
      }
     },
     "52e96d630d0046aea660768c0ff73744": {
      "model_module": "@jupyter-widgets/controls",
      "model_module_version": "1.5.0",
      "model_name": "DescriptionStyleModel",
      "state": {
       "description_width": ""
      }
     },
     "54946cffef4d450f901afd7f45c3b676": {
      "model_module": "@jupyter-widgets/base",
      "model_module_version": "1.2.0",
      "model_name": "LayoutModel",
      "state": {}
     },
     "54b3ff4be77a4364854385a21160827d": {
      "model_module": "@jupyter-widgets/controls",
      "model_module_version": "1.5.0",
      "model_name": "SliderStyleModel",
      "state": {
       "description_width": ""
      }
     },
     "551876db5c394e419587a658730cc294": {
      "model_module": "@jupyter-widgets/base",
      "model_module_version": "1.2.0",
      "model_name": "LayoutModel",
      "state": {}
     },
     "557ed70fc0f24fbeb449cddfb11eec3b": {
      "model_module": "@jupyter-widgets/controls",
      "model_module_version": "1.5.0",
      "model_name": "SliderStyleModel",
      "state": {
       "description_width": ""
      }
     },
     "55e543c133ad435b9d83a5c47f06b66c": {
      "model_module": "@jupyter-widgets/base",
      "model_module_version": "1.2.0",
      "model_name": "LayoutModel",
      "state": {}
     },
     "57a603f19be242fda74ef63e64393492": {
      "model_module": "@jupyter-widgets/controls",
      "model_module_version": "1.5.0",
      "model_name": "SliderStyleModel",
      "state": {
       "description_width": ""
      }
     },
     "5859953424c64a4098720ab8f5760231": {
      "model_module": "@jupyter-widgets/controls",
      "model_module_version": "1.5.0",
      "model_name": "SliderStyleModel",
      "state": {
       "description_width": ""
      }
     },
     "5a2b3e26e2cc4376864eddff5ff7c315": {
      "model_module": "@jupyter-widgets/base",
      "model_module_version": "1.2.0",
      "model_name": "LayoutModel",
      "state": {
       "grid_area": "widget002"
      }
     },
     "5a33ace06b854e71a19b0a3d037f1016": {
      "model_module": "@jupyter-widgets/controls",
      "model_module_version": "1.5.0",
      "model_name": "SliderStyleModel",
      "state": {
       "description_width": ""
      }
     },
     "5c6ed299755a4291913d87acf44a35e3": {
      "model_module": "@jupyter-widgets/controls",
      "model_module_version": "1.5.0",
      "model_name": "DatePickerModel",
      "state": {
       "description": "Pick a Date",
       "disabled": false,
       "layout": "IPY_MODEL_eb2098f435f84093b62032d251fb447d",
       "style": "IPY_MODEL_0cb8300560814db5a64bdab9eb296375"
      }
     },
     "5d5ff5f14ab74b86b1048d3ecc0018c1": {
      "model_module": "@jupyter-widgets/controls",
      "model_module_version": "1.5.0",
      "model_name": "GridBoxModel",
      "state": {
       "layout": "IPY_MODEL_30c79107495a4a698aab3026cdac34c7"
      }
     },
     "63ecfcddd5e34c7ea292802ef7763ef5": {
      "model_module": "@jupyter-widgets/controls",
      "model_module_version": "1.5.0",
      "model_name": "SliderStyleModel",
      "state": {
       "description_width": ""
      }
     },
     "65b2c5fb96e14bf28e36e24eb9a0539e": {
      "model_module": "@jupyter-widgets/base",
      "model_module_version": "1.2.0",
      "model_name": "LayoutModel",
      "state": {}
     },
     "6612721c30cc4594b98c47e10c407639": {
      "model_module": "@jupyter-widgets/controls",
      "model_module_version": "1.5.0",
      "model_name": "DescriptionStyleModel",
      "state": {
       "description_width": ""
      }
     },
     "68f858c51fa7490e930c0387b646d5d7": {
      "model_module": "@jupyter-widgets/controls",
      "model_module_version": "1.5.0",
      "model_name": "SliderStyleModel",
      "state": {
       "description_width": ""
      }
     },
     "693b4300663b4820a8c95010ab4f289c": {
      "model_module": "@jupyter-widgets/base",
      "model_module_version": "1.2.0",
      "model_name": "LayoutModel",
      "state": {}
     },
     "6982de1ea8094dfebf0019a7f7e899ae": {
      "model_module": "@jupyter-widgets/base",
      "model_module_version": "1.2.0",
      "model_name": "LayoutModel",
      "state": {}
     },
     "6c1c61fecb37459d935d65eace86c26f": {
      "model_module": "@jupyter-widgets/controls",
      "model_module_version": "1.5.0",
      "model_name": "TextModel",
      "state": {
       "description": "Viewer ID:",
       "layout": "IPY_MODEL_7c893bededb74f18acf82e6809e33734",
       "style": "IPY_MODEL_3599086e278147b38875391142638881",
       "value": "uniqueId"
      }
     },
     "745c4a01d62f445cae1a10b161358a0e": {
      "model_module": "@jupyter-widgets/base",
      "model_module_version": "1.2.0",
      "model_name": "LayoutModel",
      "state": {
       "grid_area": "widget002"
      }
     },
     "74846e7dc72c4977babec676ee15cd44": {
      "model_module": "@jupyter-widgets/controls",
      "model_module_version": "1.5.0",
      "model_name": "TextModel",
      "state": {
       "description": "Asset ID:",
       "layout": "IPY_MODEL_fd4defd9bbe244be8746e0944f52799d",
       "style": "IPY_MODEL_777d313a87704fbb87dd0eac652b7baf",
       "value": "asset_canonical_id"
      }
     },
     "752d2541da4f425fa04065c15ab4c9f5": {
      "model_module": "@jupyter-widgets/controls",
      "model_module_version": "1.5.0",
      "model_name": "DatePickerModel",
      "state": {
       "description": "Pick a Date",
       "disabled": false,
       "layout": "IPY_MODEL_24bb6c44639245de9112541fca6d8b35",
       "style": "IPY_MODEL_b10b683fb909447a85fe58caed2931ad",
       "value": {
        "date": 12,
        "month": 4,
        "year": 2020
       }
      }
     },
     "759efba5574c41428b9d88d6938526b7": {
      "model_module": "@jupyter-widgets/base",
      "model_module_version": "1.2.0",
      "model_name": "LayoutModel",
      "state": {}
     },
     "7601680740594ddba0c1a01958dc9d91": {
      "model_module": "@jupyter-widgets/base",
      "model_module_version": "1.2.0",
      "model_name": "LayoutModel",
      "state": {
       "grid_area": "widget004"
      }
     },
     "7646dd2f2a3d4004a7e8f69aafda9aba": {
      "model_module": "@jupyter-widgets/controls",
      "model_module_version": "1.5.0",
      "model_name": "TextModel",
      "state": {
       "layout": "IPY_MODEL_32a0d0bb15ca4f398e31d913759a723c",
       "style": "IPY_MODEL_d7d4627fb2fc4aa6a16fa98f57e34fa3",
       "value": "uniqueId"
      }
     },
     "76ee470764c44278b39ed2a568ad6b07": {
      "model_module": "@jupyter-widgets/base",
      "model_module_version": "1.2.0",
      "model_name": "LayoutModel",
      "state": {
       "grid_area": "widget004"
      }
     },
     "777d313a87704fbb87dd0eac652b7baf": {
      "model_module": "@jupyter-widgets/controls",
      "model_module_version": "1.5.0",
      "model_name": "DescriptionStyleModel",
      "state": {
       "description_width": ""
      }
     },
     "78c4d590fe7c4f69b8260fec80011e71": {
      "model_module": "@jupyter-widgets/controls",
      "model_module_version": "1.5.0",
      "model_name": "TextModel",
      "state": {
       "description": "Viewer ID:",
       "layout": "IPY_MODEL_7601680740594ddba0c1a01958dc9d91",
       "style": "IPY_MODEL_e769ae6f93ea494db9e60882f21da2f7",
       "value": "uniqueId"
      }
     },
     "7c893bededb74f18acf82e6809e33734": {
      "model_module": "@jupyter-widgets/base",
      "model_module_version": "1.2.0",
      "model_name": "LayoutModel",
      "state": {}
     },
     "7cc0fd42836f4cb4846b2ec9e059807c": {
      "model_module": "@jupyter-widgets/controls",
      "model_module_version": "1.5.0",
      "model_name": "SliderStyleModel",
      "state": {
       "description_width": ""
      }
     },
     "7d73bef5c5a3490280f3085c61575291": {
      "model_module": "@jupyter-widgets/base",
      "model_module_version": "1.2.0",
      "model_name": "LayoutModel",
      "state": {
       "grid_area": "widget003"
      }
     },
     "7d7e5903e52b4d9b9d5ea8b2b952bf28": {
      "model_module": "@jupyter-widgets/controls",
      "model_module_version": "1.5.0",
      "model_name": "DescriptionStyleModel",
      "state": {
       "description_width": ""
      }
     },
     "7d85e1c3630e45adbdcfadfe1bdb8452": {
      "model_module": "@jupyter-widgets/controls",
      "model_module_version": "1.5.0",
      "model_name": "DescriptionStyleModel",
      "state": {
       "description_width": ""
      }
     },
     "7db24ab837e74e93bea6e894d407e91b": {
      "model_module": "@jupyter-widgets/base",
      "model_module_version": "1.2.0",
      "model_name": "LayoutModel",
      "state": {}
     },
     "7e923527e4344f81afb323e9b644dd9f": {
      "model_module": "@jupyter-widgets/controls",
      "model_module_version": "1.5.0",
      "model_name": "DatePickerModel",
      "state": {
       "description": "Pick a Date",
       "disabled": false,
       "layout": "IPY_MODEL_900b31d0ba314475816967cc697ba8f9",
       "style": "IPY_MODEL_30fb21d8e4ce461b8d98727012520105",
       "value": {
        "date": 12,
        "month": 4,
        "year": 2020
       }
      }
     },
     "7f0174017f7644c1b1a492216d6b3585": {
      "model_module": "@jupyter-widgets/base",
      "model_module_version": "1.2.0",
      "model_name": "LayoutModel",
      "state": {
       "grid_area": "widget004"
      }
     },
     "7f983933cde744c8aaec95d98bb61228": {
      "model_module": "@jupyter-widgets/controls",
      "model_module_version": "1.5.0",
      "model_name": "TextModel",
      "state": {
       "description": "Viewer ID:",
       "layout": "IPY_MODEL_8aacc909640a432489a9f9b28e763b4d",
       "style": "IPY_MODEL_f00d7db287334c73855790bc6514d4b5",
       "value": "uniqueId"
      }
     },
     "8271aebd95c24a258db83999f1f4f2b1": {
      "model_module": "@jupyter-widgets/controls",
      "model_module_version": "1.5.0",
      "model_name": "SliderStyleModel",
      "state": {
       "description_width": ""
      }
     },
     "831094f21066498488ed09cc897db41b": {
      "model_module": "@jupyter-widgets/base",
      "model_module_version": "1.2.0",
      "model_name": "LayoutModel",
      "state": {}
     },
     "88414b7839d04c5b8a953e0bc6484d4b": {
      "model_module": "@jupyter-widgets/controls",
      "model_module_version": "1.5.0",
      "model_name": "FloatSliderModel",
      "state": {
       "continuous_update": false,
       "description": "Test:",
       "layout": "IPY_MODEL_bedfde9f0d0a4ee398a76cdb3b73035b",
       "step": 0.01,
       "style": "IPY_MODEL_225d834c7ee245b9b3bd9d0f1cb77d91",
       "value": 15.66
      }
     },
     "888b8432a73a44b684de66ebd28e02d2": {
      "model_module": "@jupyter-widgets/controls",
      "model_module_version": "1.5.0",
      "model_name": "DatePickerModel",
      "state": {
       "description": "Pick a Date",
       "disabled": false,
       "layout": "IPY_MODEL_04c84e42488944ec9c6f15fc991a4aab",
       "style": "IPY_MODEL_9731afb60ebb4a00b02bdf18896d5283"
      }
     },
     "88a793cf04d449fba15d1c4243cd1fbd": {
      "model_module": "@jupyter-widgets/controls",
      "model_module_version": "1.5.0",
      "model_name": "FloatSliderModel",
      "state": {
       "continuous_update": false,
       "description": "Outlier (%):",
       "layout": "IPY_MODEL_7f0174017f7644c1b1a492216d6b3585",
       "min": 0.01,
       "step": 0.01,
       "style": "IPY_MODEL_4cf1bd5c6301427c90a718b8e6571ecd",
       "value": 0.02
      }
     },
     "8a2b579b52054d44af2795923decb945": {
      "model_module": "@jupyter-widgets/controls",
      "model_module_version": "1.5.0",
      "model_name": "DescriptionStyleModel",
      "state": {
       "description_width": ""
      }
     },
     "8aacc909640a432489a9f9b28e763b4d": {
      "model_module": "@jupyter-widgets/base",
      "model_module_version": "1.2.0",
      "model_name": "LayoutModel",
      "state": {
       "grid_area": "widget002"
      }
     },
     "8bab05d4b5dd4a7aa3e1b8106477bc8a": {
      "model_module": "@jupyter-widgets/base",
      "model_module_version": "1.2.0",
      "model_name": "LayoutModel",
      "state": {}
     },
     "8bc17b202efb4879be33d10cf2d732d8": {
      "model_module": "@jupyter-widgets/controls",
      "model_module_version": "1.5.0",
      "model_name": "DatePickerModel",
      "state": {
       "description": "Pick a Date",
       "disabled": false,
       "layout": "IPY_MODEL_8f41839f8fe741b9a62fa6a461405255",
       "style": "IPY_MODEL_1531bb72f1ec46f996d53f80f481bcb4"
      }
     },
     "8e68a8b638144727ae43aa1544385587": {
      "model_module": "@jupyter-widgets/controls",
      "model_module_version": "1.5.0",
      "model_name": "FloatSliderModel",
      "state": {
       "continuous_update": false,
       "description": "Test:",
       "layout": "IPY_MODEL_017ae496e13945678a850df951fa92da",
       "max": 10,
       "readout_format": ".1f",
       "step": 0.1,
       "style": "IPY_MODEL_2457fd5fae614279bc9b0645f964a3bb",
       "value": 7.5
      }
     },
     "8e8e9758df5341318c016f51c5d4f5a0": {
      "model_module": "@jupyter-widgets/controls",
      "model_module_version": "1.5.0",
      "model_name": "GridBoxModel",
      "state": {
       "children": [
        "IPY_MODEL_4e8d80b6169a4403bf7584ee0cc78b19",
        "IPY_MODEL_99b1882f629a40cdb00e04b8e558cd44",
        "IPY_MODEL_5c6ed299755a4291913d87acf44a35e3",
        "IPY_MODEL_e444a11fb04f4cf9891c45fc4696a69f"
       ],
       "layout": "IPY_MODEL_4b55ce0ee24e49d4bcbd18044e899661"
      }
     },
     "8f41839f8fe741b9a62fa6a461405255": {
      "model_module": "@jupyter-widgets/base",
      "model_module_version": "1.2.0",
      "model_name": "LayoutModel",
      "state": {
       "grid_area": "widget003"
      }
     },
     "8f8b2cc351bd49fbb95310e6bb91531c": {
      "model_module": "@jupyter-widgets/controls",
      "model_module_version": "1.5.0",
      "model_name": "DescriptionStyleModel",
      "state": {
       "description_width": ""
      }
     },
     "900b31d0ba314475816967cc697ba8f9": {
      "model_module": "@jupyter-widgets/base",
      "model_module_version": "1.2.0",
      "model_name": "LayoutModel",
      "state": {
       "grid_area": "widget005"
      }
     },
     "9137d321b541422b9151de474205b4d1": {
      "model_module": "@jupyter-widgets/base",
      "model_module_version": "1.2.0",
      "model_name": "LayoutModel",
      "state": {}
     },
     "920a0f8596af49d3bc9dab79389634f2": {
      "model_module": "@jupyter-widgets/controls",
      "model_module_version": "1.5.0",
      "model_name": "DescriptionStyleModel",
      "state": {
       "description_width": ""
      }
     },
     "95a1abf5826c45c1a3bd3a01b94fe125": {
      "model_module": "@jupyter-widgets/base",
      "model_module_version": "1.2.0",
      "model_name": "LayoutModel",
      "state": {}
     },
     "9731afb60ebb4a00b02bdf18896d5283": {
      "model_module": "@jupyter-widgets/controls",
      "model_module_version": "1.5.0",
      "model_name": "DescriptionStyleModel",
      "state": {
       "description_width": ""
      }
     },
     "9857078e8a4c40a99d09610c58975c35": {
      "model_module": "@jupyter-widgets/controls",
      "model_module_version": "1.5.0",
      "model_name": "SliderStyleModel",
      "state": {
       "description_width": ""
      }
     },
     "98e202a2b2c44fe9be37947600bcd856": {
      "model_module": "@jupyter-widgets/controls",
      "model_module_version": "1.5.0",
      "model_name": "TextModel",
      "state": {
       "disabled": true,
       "layout": "IPY_MODEL_27265fe3d3a34262bcc478ef52864d11",
       "style": "IPY_MODEL_06b2fb4d62024608a2d6e53de6cabd7b",
       "value": "asset_canonical_id"
      }
     },
     "991f6a6756a844c8911e3c2c42ae0bed": {
      "model_module": "@jupyter-widgets/controls",
      "model_module_version": "1.5.0",
      "model_name": "SliderStyleModel",
      "state": {
       "description_width": ""
      }
     },
     "99b1882f629a40cdb00e04b8e558cd44": {
      "model_module": "@jupyter-widgets/controls",
      "model_module_version": "1.5.0",
      "model_name": "TextModel",
      "state": {
       "layout": "IPY_MODEL_5a2b3e26e2cc4376864eddff5ff7c315",
       "style": "IPY_MODEL_e664e14fda064abd8b27b8b9096ddfb0",
       "value": "uniqueId"
      }
     },
     "9b8957d4b6124432baff5c7724fc746a": {
      "model_module": "@jupyter-widgets/controls",
      "model_module_version": "1.5.0",
      "model_name": "TextModel",
      "state": {
       "description": "Asset ID:",
       "layout": "IPY_MODEL_23559dd1d8864ff5a60ddd424ed9e6c9",
       "style": "IPY_MODEL_c6c20bc211134754a707f2a47595491f",
       "value": "asset_canonical_id"
      }
     },
     "9c3187c4772c42cdbe1e7d5174f8e3b2": {
      "model_module": "@jupyter-widgets/base",
      "model_module_version": "1.2.0",
      "model_name": "LayoutModel",
      "state": {}
     },
     "9f1d942aa3004946bf3d43b77f343bdd": {
      "model_module": "@jupyter-widgets/base",
      "model_module_version": "1.2.0",
      "model_name": "LayoutModel",
      "state": {}
     },
     "9f90ba3234fb4cda9ba1ce1b588c1d6d": {
      "model_module": "@jupyter-widgets/base",
      "model_module_version": "1.2.0",
      "model_name": "LayoutModel",
      "state": {
       "grid_area": "widget006"
      }
     },
     "a079b9209cc4443e8170c4216ba34bd8": {
      "model_module": "@jupyter-widgets/base",
      "model_module_version": "1.2.0",
      "model_name": "LayoutModel",
      "state": {}
     },
     "a1d7c345a260476b9eade2a1823516a7": {
      "model_module": "@jupyter-widgets/base",
      "model_module_version": "1.2.0",
      "model_name": "LayoutModel",
      "state": {}
     },
     "a221b5f314434a389e1ebe33ac6f7edb": {
      "model_module": "@jupyter-widgets/controls",
      "model_module_version": "1.5.0",
      "model_name": "DescriptionStyleModel",
      "state": {
       "description_width": ""
      }
     },
     "a2256db4e6044449873a4e98b5d7f025": {
      "model_module": "@jupyter-widgets/base",
      "model_module_version": "1.2.0",
      "model_name": "LayoutModel",
      "state": {}
     },
     "a25ff6416e9349f0af0f0464c9bf51ca": {
      "model_module": "@jupyter-widgets/base",
      "model_module_version": "1.2.0",
      "model_name": "LayoutModel",
      "state": {}
     },
     "a34fce7c53f64b948827e4f800e00a27": {
      "model_module": "@jupyter-widgets/controls",
      "model_module_version": "1.5.0",
      "model_name": "FloatSliderModel",
      "state": {
       "continuous_update": false,
       "description": "Test:",
       "layout": "IPY_MODEL_55e543c133ad435b9d83a5c47f06b66c",
       "max": 10,
       "readout_format": ".1f",
       "step": 0.1,
       "style": "IPY_MODEL_2f01a3b6424c4dd48cd1a6a98202f5ff"
      }
     },
     "a4d18ec51f85469fbf8e50c7ef7311a0": {
      "model_module": "@jupyter-widgets/controls",
      "model_module_version": "1.5.0",
      "model_name": "FloatSliderModel",
      "state": {
       "continuous_update": false,
       "description": "Test:",
       "layout": "IPY_MODEL_693b4300663b4820a8c95010ab4f289c",
       "step": 0.01,
       "style": "IPY_MODEL_bd7c49789f9a4308935e1f2928983d18",
       "value": 1.24
      }
     },
     "a68afcd0782d457c8f43179e17ace599": {
      "model_module": "@jupyter-widgets/controls",
      "model_module_version": "1.5.0",
      "model_name": "SliderStyleModel",
      "state": {
       "description_width": ""
      }
     },
     "a6b0af016490498b8580fecf4e1c0a75": {
      "model_module": "@jupyter-widgets/base",
      "model_module_version": "1.2.0",
      "model_name": "LayoutModel",
      "state": {
       "grid_area": "widget001"
      }
     },
     "af35f3eb376b46048e841d6dd6fe3f1c": {
      "model_module": "@jupyter-widgets/controls",
      "model_module_version": "1.5.0",
      "model_name": "SliderStyleModel",
      "state": {
       "description_width": ""
      }
     },
     "af8e6cb77d524553b5d4a2d0569d7789": {
      "model_module": "@jupyter-widgets/controls",
      "model_module_version": "1.5.0",
      "model_name": "TextModel",
      "state": {
       "description": "Asset ID:",
       "layout": "IPY_MODEL_15748d04521b41a1a3f6923741efdb69",
       "style": "IPY_MODEL_7d85e1c3630e45adbdcfadfe1bdb8452",
       "value": "asset_canonical_id"
      }
     },
     "afc23e2bf345434994b53c564f026ba7": {
      "model_module": "@jupyter-widgets/controls",
      "model_module_version": "1.5.0",
      "model_name": "SliderStyleModel",
      "state": {
       "description_width": ""
      }
     },
     "b10b683fb909447a85fe58caed2931ad": {
      "model_module": "@jupyter-widgets/controls",
      "model_module_version": "1.5.0",
      "model_name": "DescriptionStyleModel",
      "state": {
       "description_width": ""
      }
     },
     "b1fb6966b88f4611b4152e4e543a75a2": {
      "model_module": "@jupyter-widgets/controls",
      "model_module_version": "1.5.0",
      "model_name": "SliderStyleModel",
      "state": {
       "description_width": ""
      }
     },
     "b3634cc687054fdb89af07949142d1c1": {
      "model_module": "@jupyter-widgets/base",
      "model_module_version": "1.2.0",
      "model_name": "LayoutModel",
      "state": {}
     },
     "b54cac148569455b9355f0afaf953ac6": {
      "model_module": "@jupyter-widgets/controls",
      "model_module_version": "1.5.0",
      "model_name": "TextModel",
      "state": {
       "description": "Save Table:",
       "layout": "IPY_MODEL_cb5d239b2aef4216b864f6ab96d00693",
       "style": "IPY_MODEL_b9bed89a48ea476c829159aee9a3b25d",
       "value": "content-insights-dev-249001.ds.encostar_slingtv_outlier"
      }
     },
     "b5eac8722d5c40db877fe29d861e62a7": {
      "model_module": "@jupyter-widgets/controls",
      "model_module_version": "1.5.0",
      "model_name": "GridBoxModel",
      "state": {
       "children": [
        "IPY_MODEL_054da888e2364fe6a29ecfe071dd7e23",
        "IPY_MODEL_ff58f88e3b854379ad0273a9912e0ffc",
        "IPY_MODEL_054da888e2364fe6a29ecfe071dd7e23",
        "IPY_MODEL_ff58f88e3b854379ad0273a9912e0ffc"
       ],
       "layout": "IPY_MODEL_bdc9155464244b7db650732fd0c5437e"
      }
     },
     "b728af391812443695decac15a6b1f0f": {
      "model_module": "@jupyter-widgets/base",
      "model_module_version": "1.2.0",
      "model_name": "LayoutModel",
      "state": {
       "grid_area": "widget001"
      }
     },
     "b7bdae46f2b14550adc5b08346e56082": {
      "model_module": "@jupyter-widgets/controls",
      "model_module_version": "1.5.0",
      "model_name": "SliderStyleModel",
      "state": {
       "description_width": ""
      }
     },
     "b837c08ae1d8413fab4ba4b04f70ba66": {
      "model_module": "@jupyter-widgets/base",
      "model_module_version": "1.2.0",
      "model_name": "LayoutModel",
      "state": {
       "grid_template_areas": "\"widget001 widget002\"\n\"widget003 widget004\"",
       "grid_template_columns": "repeat(2, 1fr)",
       "grid_template_rows": "repeat(2, 1fr)"
      }
     },
     "b9bed89a48ea476c829159aee9a3b25d": {
      "model_module": "@jupyter-widgets/controls",
      "model_module_version": "1.5.0",
      "model_name": "DescriptionStyleModel",
      "state": {
       "description_width": ""
      }
     },
     "bd5e813a18b5425c93ae691b6d4ea570": {
      "model_module": "@jupyter-widgets/controls",
      "model_module_version": "1.5.0",
      "model_name": "FloatSliderModel",
      "state": {
       "continuous_update": false,
       "description": "Outlier (%):",
       "layout": "IPY_MODEL_95a1abf5826c45c1a3bd3a01b94fe125",
       "min": 0.01,
       "step": 0.01,
       "style": "IPY_MODEL_300384790a224edaa7538c40df969edc",
       "value": 0.02
      }
     },
     "bd7c49789f9a4308935e1f2928983d18": {
      "model_module": "@jupyter-widgets/controls",
      "model_module_version": "1.5.0",
      "model_name": "SliderStyleModel",
      "state": {
       "description_width": ""
      }
     },
     "bdc9155464244b7db650732fd0c5437e": {
      "model_module": "@jupyter-widgets/base",
      "model_module_version": "1.2.0",
      "model_name": "LayoutModel",
      "state": {
       "grid_template_areas": "\"widget001 widget002\"\n\"widget003 widget004\"",
       "grid_template_columns": "repeat(2, 1fr)",
       "grid_template_rows": "repeat(2, 1fr)"
      }
     },
     "bedfde9f0d0a4ee398a76cdb3b73035b": {
      "model_module": "@jupyter-widgets/base",
      "model_module_version": "1.2.0",
      "model_name": "LayoutModel",
      "state": {}
     },
     "bf560d7a408740408b2fd3c98f84bac1": {
      "model_module": "@jupyter-widgets/controls",
      "model_module_version": "1.5.0",
      "model_name": "FloatSliderModel",
      "state": {
       "continuous_update": false,
       "description": "Test:",
       "layout": "IPY_MODEL_df9104278cd74ea79d01af5fe05fe5be",
       "step": 0.01,
       "style": "IPY_MODEL_8271aebd95c24a258db83999f1f4f2b1"
      }
     },
     "c0586e0c6f4242348df931f8c026edfc": {
      "model_module": "@jupyter-widgets/controls",
      "model_module_version": "1.5.0",
      "model_name": "FloatSliderModel",
      "state": {
       "continuous_update": false,
       "description": "Test:",
       "layout": "IPY_MODEL_ead44b06e67749538bb580e208d40fbd",
       "step": 0.01,
       "style": "IPY_MODEL_7cc0fd42836f4cb4846b2ec9e059807c",
       "value": 28.56
      }
     },
     "c270ff94d97741f0a79a127d2e04dd17": {
      "model_module": "@jupyter-widgets/controls",
      "model_module_version": "1.5.0",
      "model_name": "DescriptionStyleModel",
      "state": {
       "description_width": ""
      }
     },
     "c6c20bc211134754a707f2a47595491f": {
      "model_module": "@jupyter-widgets/controls",
      "model_module_version": "1.5.0",
      "model_name": "DescriptionStyleModel",
      "state": {
       "description_width": ""
      }
     },
     "cb00a3ad28544b2783704eee94ff0acf": {
      "model_module": "@jupyter-widgets/controls",
      "model_module_version": "1.5.0",
      "model_name": "FloatSliderModel",
      "state": {
       "continuous_update": false,
       "description": "Outlier (%):",
       "layout": "IPY_MODEL_ccbb19cb13594399bb4b17f7485b16f2",
       "min": 0.01,
       "step": 0.01,
       "style": "IPY_MODEL_68f858c51fa7490e930c0387b646d5d7",
       "value": 0.02
      }
     },
     "cb5d239b2aef4216b864f6ab96d00693": {
      "model_module": "@jupyter-widgets/base",
      "model_module_version": "1.2.0",
      "model_name": "LayoutModel",
      "state": {
       "grid_area": "widget002"
      }
     },
     "ccb8fc4b67444a4e9b880ff3d5961546": {
      "model_module": "@jupyter-widgets/base",
      "model_module_version": "1.2.0",
      "model_name": "LayoutModel",
      "state": {}
     },
     "ccbb19cb13594399bb4b17f7485b16f2": {
      "model_module": "@jupyter-widgets/base",
      "model_module_version": "1.2.0",
      "model_name": "LayoutModel",
      "state": {
       "grid_area": "widget004"
      }
     },
     "cda8832ef8064716b4c2cc0d4588a292": {
      "model_module": "@jupyter-widgets/controls",
      "model_module_version": "1.5.0",
      "model_name": "TextModel",
      "state": {
       "description": "Viewer ID:",
       "layout": "IPY_MODEL_f4cc02251e5d45a183e17fbac63442f9",
       "style": "IPY_MODEL_3c6b8b260de8452c9d14b6bf772640ba",
       "value": "uniqueId"
      }
     },
     "d1360cd0bb34433eba894c544f6fc4b7": {
      "model_module": "@jupyter-widgets/controls",
      "model_module_version": "1.5.0",
      "model_name": "SliderStyleModel",
      "state": {
       "description_width": ""
      }
     },
     "d13fb6762b2045aea1d71950585d6520": {
      "model_module": "@jupyter-widgets/controls",
      "model_module_version": "1.5.0",
      "model_name": "DatePickerModel",
      "state": {
       "description": "Pick a Date",
       "disabled": false,
       "layout": "IPY_MODEL_7d73bef5c5a3490280f3085c61575291",
       "style": "IPY_MODEL_6612721c30cc4594b98c47e10c407639"
      }
     },
     "d1cc0a1360cb4ba1b06657da32b5dd09": {
      "model_module": "@jupyter-widgets/controls",
      "model_module_version": "1.5.0",
      "model_name": "DescriptionStyleModel",
      "state": {
       "description_width": ""
      }
     },
     "d68c810a5d19447c9732e8a83442e0fc": {
      "model_module": "@jupyter-widgets/controls",
      "model_module_version": "1.5.0",
      "model_name": "GridBoxModel",
      "state": {
       "children": [
        "IPY_MODEL_9b8957d4b6124432baff5c7724fc746a",
        "IPY_MODEL_cda8832ef8064716b4c2cc0d4588a292",
        "IPY_MODEL_752d2541da4f425fa04065c15ab4c9f5",
        "IPY_MODEL_88a793cf04d449fba15d1c4243cd1fbd"
       ],
       "layout": "IPY_MODEL_e144dcd98cf94742a8238052c6d9afe5"
      }
     },
     "d69121ba8a214aef897597b6a7a96902": {
      "model_module": "@jupyter-widgets/base",
      "model_module_version": "1.2.0",
      "model_name": "LayoutModel",
      "state": {}
     },
     "d7d4627fb2fc4aa6a16fa98f57e34fa3": {
      "model_module": "@jupyter-widgets/controls",
      "model_module_version": "1.5.0",
      "model_name": "DescriptionStyleModel",
      "state": {
       "description_width": ""
      }
     },
     "ddcebe9958164bd9beff39f28479bb8e": {
      "model_module": "@jupyter-widgets/controls",
      "model_module_version": "1.5.0",
      "model_name": "FloatSliderModel",
      "state": {
       "continuous_update": false,
       "description": "contamination (%):",
       "layout": "IPY_MODEL_9137d321b541422b9151de474205b4d1",
       "step": 0.01,
       "style": "IPY_MODEL_af35f3eb376b46048e841d6dd6fe3f1c",
       "value": 0.02
      }
     },
     "de0dcc9d67154c12ac6ba60406b6b98e": {
      "model_module": "@jupyter-widgets/output",
      "model_module_version": "1.0.0",
      "model_name": "OutputModel",
      "state": {
       "layout": "IPY_MODEL_a079b9209cc4443e8170c4216ba34bd8",
       "outputs": [
        {
         "data": {
          "text/plain": "-0.02"
         },
         "metadata": {},
         "output_type": "display_data"
        }
       ]
      }
     },
     "df81bdd52b6a4abda79c7912b226742f": {
      "model_module": "@jupyter-widgets/base",
      "model_module_version": "1.2.0",
      "model_name": "LayoutModel",
      "state": {
       "grid_area": "widget003"
      }
     },
     "df9104278cd74ea79d01af5fe05fe5be": {
      "model_module": "@jupyter-widgets/base",
      "model_module_version": "1.2.0",
      "model_name": "LayoutModel",
      "state": {}
     },
     "e01424971fc84fc5b20783a61c77a362": {
      "model_module": "@jupyter-widgets/base",
      "model_module_version": "1.2.0",
      "model_name": "LayoutModel",
      "state": {}
     },
     "e0984832a5424eb4895906d7a3d358ed": {
      "model_module": "@jupyter-widgets/controls",
      "model_module_version": "1.5.0",
      "model_name": "FloatSliderModel",
      "state": {
       "layout": "IPY_MODEL_551876db5c394e419587a658730cc294",
       "min": 0.01,
       "step": 0.01,
       "style": "IPY_MODEL_557ed70fc0f24fbeb449cddfb11eec3b",
       "value": 0.01
      }
     },
     "e144dcd98cf94742a8238052c6d9afe5": {
      "model_module": "@jupyter-widgets/base",
      "model_module_version": "1.2.0",
      "model_name": "LayoutModel",
      "state": {
       "grid_template_areas": "\"widget001 widget002\"\n\"widget003 widget004\"",
       "grid_template_columns": "repeat(2, 1fr)",
       "grid_template_rows": "repeat(2, 1fr)"
      }
     },
     "e28de625c0e94df28ede85329e8c03e0": {
      "model_module": "@jupyter-widgets/controls",
      "model_module_version": "1.5.0",
      "model_name": "TextModel",
      "state": {
       "description": "Save Table:",
       "layout": "IPY_MODEL_16e913087aa9433f8be5548651d852bc",
       "style": "IPY_MODEL_d1cc0a1360cb4ba1b06657da32b5dd09",
       "value": "content-insights-dev-249001.ds.encostar_slingtv_outlier"
      }
     },
     "e34e41c43c0d4ceda56b58f6741c61df": {
      "model_module": "@jupyter-widgets/controls",
      "model_module_version": "1.5.0",
      "model_name": "FloatSliderModel",
      "state": {
       "continuous_update": false,
       "description": "Test:",
       "layout": "IPY_MODEL_3a99aae7dabb46e1a13184e0a36b6836",
       "max": 10,
       "readout_format": ".1f",
       "step": 0.1,
       "style": "IPY_MODEL_57a603f19be242fda74ef63e64393492",
       "value": 7.5
      }
     },
     "e444a11fb04f4cf9891c45fc4696a69f": {
      "model_module": "@jupyter-widgets/controls",
      "model_module_version": "1.5.0",
      "model_name": "FloatSliderModel",
      "state": {
       "continuous_update": false,
       "description": "outlier (%):",
       "layout": "IPY_MODEL_76ee470764c44278b39ed2a568ad6b07",
       "min": 0.01,
       "step": 0.01,
       "style": "IPY_MODEL_a68afcd0782d457c8f43179e17ace599",
       "value": 0.02
      }
     },
     "e664e14fda064abd8b27b8b9096ddfb0": {
      "model_module": "@jupyter-widgets/controls",
      "model_module_version": "1.5.0",
      "model_name": "DescriptionStyleModel",
      "state": {
       "description_width": ""
      }
     },
     "e769ae6f93ea494db9e60882f21da2f7": {
      "model_module": "@jupyter-widgets/controls",
      "model_module_version": "1.5.0",
      "model_name": "DescriptionStyleModel",
      "state": {
       "description_width": ""
      }
     },
     "ead44b06e67749538bb580e208d40fbd": {
      "model_module": "@jupyter-widgets/base",
      "model_module_version": "1.2.0",
      "model_name": "LayoutModel",
      "state": {}
     },
     "eb2098f435f84093b62032d251fb447d": {
      "model_module": "@jupyter-widgets/base",
      "model_module_version": "1.2.0",
      "model_name": "LayoutModel",
      "state": {
       "grid_area": "widget003"
      }
     },
     "edd07aa220bb444eab5b04e1e3a14095": {
      "model_module": "@jupyter-widgets/base",
      "model_module_version": "1.2.0",
      "model_name": "LayoutModel",
      "state": {
       "grid_template_areas": "\"widget001 widget002\"\n\"widget003 widget004\"\n\"widget005 widget006\"",
       "grid_template_columns": "repeat(2, 1fr)",
       "grid_template_rows": "repeat(3, 1fr)"
      }
     },
     "efcbf5512d7b42b5b317c11505540b30": {
      "model_module": "@jupyter-widgets/output",
      "model_module_version": "1.0.0",
      "model_name": "OutputModel",
      "state": {
       "layout": "IPY_MODEL_1a140d0f4def4a1198a00be22b9e60f8",
       "outputs": [
        {
         "data": {
          "text/plain": "-0.02"
         },
         "metadata": {},
         "output_type": "display_data"
        }
       ]
      }
     },
     "f00d7db287334c73855790bc6514d4b5": {
      "model_module": "@jupyter-widgets/controls",
      "model_module_version": "1.5.0",
      "model_name": "DescriptionStyleModel",
      "state": {
       "description_width": ""
      }
     },
     "f4cc02251e5d45a183e17fbac63442f9": {
      "model_module": "@jupyter-widgets/base",
      "model_module_version": "1.2.0",
      "model_name": "LayoutModel",
      "state": {
       "grid_area": "widget002"
      }
     },
     "f5e790bb2b134df0aac03b31ff8d277b": {
      "model_module": "@jupyter-widgets/controls",
      "model_module_version": "1.5.0",
      "model_name": "DatePickerModel",
      "state": {
       "description": "Pick a Date",
       "disabled": false,
       "layout": "IPY_MODEL_376fd0056ecd4c9488a153168a301a58",
       "style": "IPY_MODEL_8f8b2cc351bd49fbb95310e6bb91531c"
      }
     },
     "f610a8bf58aa4c6a82d3add344109225": {
      "model_module": "@jupyter-widgets/controls",
      "model_module_version": "1.5.0",
      "model_name": "GridBoxModel",
      "state": {
       "children": [
        "IPY_MODEL_af8e6cb77d524553b5d4a2d0569d7789",
        "IPY_MODEL_21873b7ea7d6421c9415eae3ee5d3d31",
        "IPY_MODEL_8bc17b202efb4879be33d10cf2d732d8",
        "IPY_MODEL_049e25cf886247659769b6ba4d5b8d3e"
       ],
       "layout": "IPY_MODEL_14784c57e2734a709d5b831f4a333feb"
      }
     },
     "f784b62a4fd34a2aac2c2f170ab84550": {
      "model_module": "@jupyter-widgets/controls",
      "model_module_version": "1.5.0",
      "model_name": "TextModel",
      "state": {
       "layout": "IPY_MODEL_9c3187c4772c42cdbe1e7d5174f8e3b2",
       "style": "IPY_MODEL_0c96194b3e6743f58cfda7895a569c67",
       "value": "asset_canonical_id"
      }
     },
     "f8e0fe192a464060bc3b150dd5bac24d": {
      "model_module": "@jupyter-widgets/controls",
      "model_module_version": "1.5.0",
      "model_name": "VBoxModel",
      "state": {
       "_dom_classes": [
        "widget-interact"
       ],
       "children": [
        "IPY_MODEL_f9b63a3c831845feb2f0675180861445",
        "IPY_MODEL_de0dcc9d67154c12ac6ba60406b6b98e"
       ],
       "layout": "IPY_MODEL_1c90a91f1cb9434d89250fe015da3c2b"
      }
     },
     "f9b63a3c831845feb2f0675180861445": {
      "model_module": "@jupyter-widgets/controls",
      "model_module_version": "1.5.0",
      "model_name": "FloatSliderModel",
      "state": {
       "description": "x",
       "layout": "IPY_MODEL_28e7b2ab09ef475cb1dd74866f241d9c",
       "max": 0.06,
       "min": -0.02,
       "step": 0.1,
       "style": "IPY_MODEL_991f6a6756a844c8911e3c2c42ae0bed",
       "value": -0.02
      }
     },
     "fa857b0ff4d24efa895b27a87e194b1d": {
      "model_module": "@jupyter-widgets/controls",
      "model_module_version": "1.5.0",
      "model_name": "IntSliderModel",
      "state": {
       "continuous_update": false,
       "description": "Test:",
       "layout": "IPY_MODEL_07dcee44871441feb82ecddc5fad2a91",
       "max": 10,
       "style": "IPY_MODEL_5a33ace06b854e71a19b0a3d037f1016",
       "value": 9
      }
     },
     "fa9608030833417a9b4ee090a3113669": {
      "model_module": "@jupyter-widgets/controls",
      "model_module_version": "1.5.0",
      "model_name": "SliderStyleModel",
      "state": {
       "description_width": ""
      }
     },
     "fafd43e2ba644893aee52c1713cdbdbf": {
      "model_module": "@jupyter-widgets/controls",
      "model_module_version": "1.5.0",
      "model_name": "FloatSliderModel",
      "state": {
       "continuous_update": false,
       "description": "Test:",
       "layout": "IPY_MODEL_6982de1ea8094dfebf0019a7f7e899ae",
       "step": 0.01,
       "style": "IPY_MODEL_b1fb6966b88f4611b4152e4e543a75a2",
       "value": 0.02
      }
     },
     "fb541d68f90b4e7b93eb1562b9b263bc": {
      "model_module": "@jupyter-widgets/controls",
      "model_module_version": "1.5.0",
      "model_name": "FloatSliderModel",
      "state": {
       "continuous_update": false,
       "description": "Test:",
       "layout": "IPY_MODEL_e01424971fc84fc5b20783a61c77a362",
       "step": 0.01,
       "style": "IPY_MODEL_9857078e8a4c40a99d09610c58975c35",
       "value": 0.01
      }
     },
     "fd4defd9bbe244be8746e0944f52799d": {
      "model_module": "@jupyter-widgets/base",
      "model_module_version": "1.2.0",
      "model_name": "LayoutModel",
      "state": {
       "grid_area": "widget001"
      }
     },
     "ff58f88e3b854379ad0273a9912e0ffc": {
      "model_module": "@jupyter-widgets/controls",
      "model_module_version": "1.5.0",
      "model_name": "FloatSliderModel",
      "state": {
       "continuous_update": false,
       "description": "outlier (%):",
       "layout": "IPY_MODEL_0485ad1e795040b99649d627b6849298",
       "min": 0.01,
       "step": 0.01,
       "style": "IPY_MODEL_0fedd221613348498ccae068888849e6",
       "value": 68.06
      }
     },
     "ff69087c3e9b4b85a6a847573162d84b": {
      "model_module": "@jupyter-widgets/controls",
      "model_module_version": "1.5.0",
      "model_name": "VBoxModel",
      "state": {
       "_dom_classes": [
        "widget-interact"
       ],
       "children": [
        "IPY_MODEL_38dac74d07d2488c9d970085c9271869",
        "IPY_MODEL_efcbf5512d7b42b5b317c11505540b30"
       ],
       "layout": "IPY_MODEL_759efba5574c41428b9d88d6938526b7"
      }
     },
     "ffd5d7c39449443391916f5e9680e712": {
      "model_module": "@jupyter-widgets/controls",
      "model_module_version": "1.5.0",
      "model_name": "SliderStyleModel",
      "state": {
       "description_width": ""
      }
     }
    },
    "version_major": 2,
    "version_minor": 0
   }
  }
 },
 "nbformat": 4,
 "nbformat_minor": 2
}
